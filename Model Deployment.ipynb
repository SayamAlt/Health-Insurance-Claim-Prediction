{
 "cells": [
  {
   "cell_type": "code",
   "execution_count": 1,
   "id": "f6eeb8a7",
   "metadata": {},
   "outputs": [],
   "source": [
    "from flask import Flask, render_template, request\n",
    "import joblib"
   ]
  },
  {
   "cell_type": "code",
   "execution_count": 2,
   "id": "51ad8456",
   "metadata": {},
   "outputs": [
    {
     "data": {
      "text/plain": [
       "RandomForestRegressor()"
      ]
     },
     "execution_count": 2,
     "metadata": {},
     "output_type": "execute_result"
    }
   ],
   "source": [
    "model = joblib.load('model.pkl')\n",
    "model"
   ]
  },
  {
   "cell_type": "code",
   "execution_count": 3,
   "id": "2d84cec6",
   "metadata": {},
   "outputs": [],
   "source": [
    "app = Flask(__name__)"
   ]
  },
  {
   "cell_type": "code",
   "execution_count": 4,
   "id": "307dc000",
   "metadata": {},
   "outputs": [],
   "source": [
    "city_names = ['NewYork', 'Boston', 'Phildelphia', 'Pittsburg', 'Buffalo',\n",
    "       'AtlanticCity', 'Portland', 'Cambridge', 'Hartford', 'Springfield',\n",
    "       'Syracuse', 'Baltimore', 'York', 'Trenton', 'Warwick',\n",
    "       'WashingtonDC', 'Providence', 'Harrisburg', 'Newport', 'Stamford',\n",
    "       'Worcester', 'Atlanta', 'Brimingham', 'Charleston', 'Charlotte',\n",
    "       'Louisville', 'Memphis', 'Nashville', 'NewOrleans', 'Raleigh',\n",
    "       'Houston', 'Georgia', 'Oklahoma', 'Orlando', 'Macon', 'Huntsville',\n",
    "       'Knoxville', 'Florence', 'Miami', 'Tampa', 'PanamaCity',\n",
    "       'Kingsport', 'Marshall', 'Mandan', 'Waterloo', 'IowaCity',\n",
    "       'Columbia', 'Indianapolis', 'Cincinnati', 'Bloomington', 'Salina',\n",
    "       'KanasCity', 'Brookings', 'Minot', 'Chicago', 'Lincoln',\n",
    "       'FallsCity', 'GrandForks', 'Fargo', 'Cleveland', 'Canton',\n",
    "       'Columbus', 'Rochester', 'Minneapolis', 'JeffersonCity',\n",
    "       'Escabana', 'Youngstown', 'SantaRosa', 'Eureka', 'SanFrancisco',\n",
    "       'SanJose', 'LosAngeles', 'Oxnard', 'SanDeigo', 'Oceanside',\n",
    "       'Carlsbad', 'Montrose', 'Prescott', 'Fresno', 'Reno', 'LasVegas',\n",
    "       'Tucson', 'SanLuis', 'Denver', 'Kingman', 'Bakersfield',\n",
    "       'Mexicali', 'SilverCity', 'Pheonix', 'SantaFe', 'Lovelock']\n",
    "cities = dict(zip(city_names,[55,  5, 63, 64,  8,  1, 65,  9, 29, 79, 81,  3, 89, 83, 85, 86, 67,\n",
    "       28, 56, 80, 88,  0,  6, 12, 13, 42, 47, 53, 54, 68, 30, 26, 58, 59,\n",
    "       44, 31, 38, 24, 49, 82, 61, 37, 46, 45, 87, 33, 17, 32, 15,  4, 71,\n",
    "       35,  7, 51, 14, 40, 22, 27, 23, 16, 10, 18, 70, 50, 34, 20, 90, 77,\n",
    "       21, 73, 74, 41, 60, 72, 57, 11, 52, 66, 25, 69, 39, 84, 75, 19, 36,\n",
    "        2, 48, 78, 62, 76, 43]))\n",
    "job_names = ['Actor', 'Engineer', 'Academician', 'Chef', 'HomeMakers', 'Dancer',\n",
    "       'Singer', 'DataScientist', 'Police', 'Student', 'Doctor',\n",
    "       'Manager', 'Photographer', 'Beautician', 'CA', 'Blogger', 'CEO',\n",
    "       'Labourer', 'Accountant', 'FilmDirector', 'Technician',\n",
    "       'FashionDesigner', 'Architect', 'HouseKeeper', 'FilmMaker',\n",
    "       'Buisnessman', 'Politician', 'DefencePersonnels', 'Analyst',\n",
    "       'Clerks', 'ITProfessional', 'Farmer', 'Journalist', 'Lawyer',\n",
    "       'GovEmployee']\n",
    "job_titles = dict(zip(job_names,[ 2, 16,  0, 10, 22, 12, 32, 13, 30, 33, 15, 28, 29,  5,  8,  6,  9,\n",
    "       26,  1, 19, 34, 18,  4, 23, 20,  7, 31, 14,  3, 11, 24, 17, 25, 27,\n",
    "       21]))\n",
    "disease_names = ['NoDisease', 'Epilepsy', 'EyeDisease', 'Alzheimer', 'Arthritis',\n",
    "       'HeartDisease', 'Diabetes', 'Cancer', 'High BP', 'Obesity']\n",
    "diseases = dict(zip(disease_names,[8, 4, 5, 0, 1, 6, 3, 2, 7, 9]))"
   ]
  },
  {
   "cell_type": "code",
   "execution_count": 5,
   "id": "f41ce5a0",
   "metadata": {},
   "outputs": [],
   "source": [
    "@app.route(\"/\")\n",
    "def home():\n",
    "    return render_template('home.html',cities=city_names,jobs=job_names,hereditary_diseases=disease_names)"
   ]
  },
  {
   "cell_type": "code",
   "execution_count": 6,
   "id": "821ed4b8",
   "metadata": {},
   "outputs": [],
   "source": [
    "@app.route(\"/predict\", methods = ['GET','POST'])\n",
    "def predict():\n",
    "    if request.method == 'POST':\n",
    "        age = request.form['age'] #age range: (18,64)\n",
    "        sex_select = request.form['sex'] #male: 1 female: 0\n",
    "        sex = 0\n",
    "        if sex_select == 'MALE':\n",
    "            sex = 1\n",
    "        elif sex_select == 'FEMALE':\n",
    "            sex = 0\n",
    "        weight = request.form['weight'] #weight range: (34.0,95.0) (float)\n",
    "        bmi = request.form['bmi'] #bmi range: (16.0,53.1) (float)\n",
    "        dis_selected = request.form['disease'] \n",
    "        hereditary_disease = diseases[dis_selected]\n",
    "        no_of_dependents = request.form['no_dependents'] # nod range: (0,5)\n",
    "        smoke_select = request.form['smoke']\n",
    "        smoker = 0\n",
    "        if smoke_select == 'YES':\n",
    "            smoker = 1\n",
    "        elif smoke_select == 'NO':\n",
    "            smoker = 0\n",
    "        city_select = request.form['city']\n",
    "        city = cities[city_select]\n",
    "        bp = request.form['blood_pressure'] # BP range: (0,122) Integer\n",
    "        diab_select = request.form['diabetes']\n",
    "        diabetes = 0\n",
    "        if diab_select == 'YES':\n",
    "            diabetes = 1\n",
    "        elif diab_select == 'NO':\n",
    "            diabetes = 0\n",
    "        reg_ex_select = request.form['regular_exercise']\n",
    "        regular_exercise = 0\n",
    "        if reg_ex_select == 'YES':\n",
    "            regular_exercise = 1\n",
    "        elif reg_ex_select == 'NO':\n",
    "            regular_exercise = 0\n",
    "        job_title_selected = request.form['job_title']\n",
    "        job_title = job_titles[job_title_selected]\n",
    "        \n",
    "        predictions = model.predict([[\n",
    "            age,\n",
    "            sex,\n",
    "            weight,\n",
    "            bmi,\n",
    "            hereditary_disease,\n",
    "            no_of_dependents,\n",
    "            smoker,\n",
    "            city,\n",
    "            bp,\n",
    "            diabetes,\n",
    "            regular_exercise,\n",
    "            job_title\n",
    "        ]])\n",
    "        \n",
    "        output = predictions[0]\n",
    "        output = output * 12147.834670761482\n",
    "        output = \"%.3f\" % output\n",
    "        output = float(output)\n",
    "        output = format(output, ',')\n",
    "        return render_template('home.html',cities=city_names,jobs=job_names,hereditary_diseases=disease_names,prediction_text=\"Your estimated health insurance claim is ${}.\".format(output))"
   ]
  },
  {
   "cell_type": "code",
   "execution_count": null,
   "id": "01b39afc",
   "metadata": {},
   "outputs": [
    {
     "name": "stdout",
     "output_type": "stream",
     "text": [
      " * Serving Flask app '__main__' (lazy loading)\n",
      " * Environment: production\n",
      "\u001b[31m   WARNING: This is a development server. Do not use it in a production deployment.\u001b[0m\n",
      "\u001b[2m   Use a production WSGI server instead.\u001b[0m\n",
      " * Debug mode: off\n"
     ]
    },
    {
     "name": "stderr",
     "output_type": "stream",
     "text": [
      " * Running on http://127.0.0.1:8080/ (Press CTRL+C to quit)\n",
      "127.0.0.1 - - [19/May/2022 00:36:00] \"GET / HTTP/1.1\" 200 -\n",
      "127.0.0.1 - - [19/May/2022 00:36:10] \"POST /predict HTTP/1.1\" 200 -\n",
      "127.0.0.1 - - [19/May/2022 00:38:37] \"POST /predict HTTP/1.1\" 200 -\n",
      "127.0.0.1 - - [19/May/2022 00:39:56] \"POST /predict HTTP/1.1\" 200 -\n"
     ]
    }
   ],
   "source": [
    "if __name__ == '__main__':\n",
    "    app.run(port=8080)"
   ]
  }
 ],
 "metadata": {
  "kernelspec": {
   "display_name": "Python 3 (ipykernel)",
   "language": "python",
   "name": "python3"
  },
  "language_info": {
   "codemirror_mode": {
    "name": "ipython",
    "version": 3
   },
   "file_extension": ".py",
   "mimetype": "text/x-python",
   "name": "python",
   "nbconvert_exporter": "python",
   "pygments_lexer": "ipython3",
   "version": "3.8.8"
  }
 },
 "nbformat": 4,
 "nbformat_minor": 5
}
